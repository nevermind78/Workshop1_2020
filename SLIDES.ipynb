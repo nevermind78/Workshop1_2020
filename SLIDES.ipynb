{
 "cells": [
  {
   "cell_type": "markdown",
   "metadata": {
    "slideshow": {
     "slide_type": "slide"
    }
   },
   "source": [
    " <p> <img  src=\"img/ev.jpg\" width=\"1600\" height=\"1000\"> </p>"
   ]
  },
  {
   "cell_type": "markdown",
   "metadata": {
    "slideshow": {
     "slide_type": "slide"
    }
   },
   "source": [
    "# Abdallah Khemais\n",
    "<table width=\"850\" border=\"0\" cellpadding=\"10\">\n",
    "<tr>\n",
    "<td align=\"center\" valign=\"center\">\n",
    "<img src=\"img/da.png\"  />\n",
    "<br />\n",
    "Data Analyst.\n",
    "</td>\n",
    "<td align=\"center\" valign=\"center\">\n",
    "<img src=\"img/ds.png\"  />\n",
    "<br />\n",
    "Data Scientist.\n",
    "</td>\n",
    "</tr>\n",
    "</table>\n",
    "<table width=\"850\" border=\"0\" cellpadding=\"10\">\n",
    "<tr>\n",
    "<td align=\"center\" valign=\"center\">\n",
    "<img src=\"img/prog.png\"  />\n",
    "<br />\n",
    "Python Programmer.\n",
    "</td>\n",
    "<td align=\"center\" valign=\"right\">\n",
    "<img src=\"img/pytorch-acceptance-badge.png\" width=\"275\"  />\n",
    "<br />\n",
    "Facebook Scholarship.\n",
    "</td>\n",
    "</tr>\n",
    "</table>"
   ]
  },
  {
   "cell_type": "markdown",
   "metadata": {
    "slideshow": {
     "slide_type": "slide"
    }
   },
   "source": [
    " <p class=\"fragment fade-down\" data-fragment-index=\"3\">\n",
    " <img  src=\"img/logo.png\"> </p>\n",
    " <p class=\"fragment fade-down\" data-fragment-index=\"1\">Begin your journey into Data Science! Even if you've never written a line of code in your life, you'll be able to follow this presentation and witness the power of Python to perform Data Science. You'll use data to solve many problems,and along the way you'll become familiar with basic Python syntax and popular Data Science modules like Matplotlib (for charts and graphs) and Pandas (for tabular data).</p>\n",
    "\t<p class=\"fragment fade-down\" data-fragment-index=\"2\">\n",
    "    <img src=\"img/ds4eo.png\" width=\"200\" height=\"121\"></p>\n",
    "\t<p class=\"fragment fade-up\">Anaconda Installation</p>\n",
    "</section>\n"
   ]
  },
  {
   "cell_type": "markdown",
   "metadata": {
    "slideshow": {
     "slide_type": "slide"
    }
   },
   "source": [
    "<section>\n",
    "     <p class=\"fragment fade-down\" data-fragment-index=\"4\">\n",
    "    <img  src=\"img/logo.png\"> </p>\n",
    "    <p class=\"fragment fade-down\" data-fragment-index=\"1\">\n",
    "    <img  src=\"img/py.png\" width=\"200\" height=\"121\"> </p>\n",
    "\t<p class=\"fragment fade-down\" data-fragment-index=\"2\">Welcome to the wonderful world of Data Analysis in Python! You'll learn the basics of Python syntax, load your first Python modules, and use functions.</p>\n",
    "\t<p class=\"fragment fade-down\" data-fragment-index=\"3\">\n",
    "    <img src=\"img/ds4eo.png\" width=\"200\" height=\"121\"></p>\n",
    "\t<p class=\"fragment fade-up\">Anaconda Installation</p>\n",
    "</section>\n"
   ]
  },
  {
   "cell_type": "markdown",
   "metadata": {
    "slideshow": {
     "slide_type": "slide"
    }
   },
   "source": [
    "\n",
    "<section>\n",
    "    <p class=\"fragment\" data-fragment-index=\"1\"><a href=\"https://www.anaconda.com/distribution/\">Anaconda</a></p>\n",
    "\t<p class=\"fragment\" data-fragment-index=\"2\"> <img src=\"an.png\" ></p>\n",
    "    \n",
    "</section>\n",
    "\n"
   ]
  },
  {
   "cell_type": "markdown",
   "metadata": {
    "slideshow": {
     "slide_type": "slide"
    }
   },
   "source": [
    "## Editor ?\n",
    "\n",
    "<table width=\"500\" border=\"0\" cellpadding=\"5\">\n",
    "<tr>\n",
    "<td align=\"center\" valign=\"center\">\n",
    "<img src=\"img/jupy.png\" alt=\"description here\" />\n",
    "<br />\n",
    "Jupyter notebook.\n",
    "</td>\n",
    "<td align=\"center\" valign=\"center\">\n",
    "<img src=\"img/spy.png\" alt=\"description here\" />\n",
    "<br />\n",
    "Spyder.\n",
    "</td>\n",
    "<td align=\"center\" valign=\"center\">\n",
    "<img src=\"img/atom.jpeg\" alt=\"description here\" />\n",
    "<br />\n",
    "Atom.\n",
    "</td>\n",
    "<td align=\"center\" valign=\"center\">\n",
    "<img src=\"img/vs.jpeg\" alt=\"description here\" />\n",
    "<br />\n",
    "Vs Code.\n",
    "</td>\n",
    "</tr>\n",
    "</table>\n"
   ]
  },
  {
   "cell_type": "markdown",
   "metadata": {
    "slideshow": {
     "slide_type": "slide"
    }
   },
   "source": [
    "## <p class=\"fragment highlight-current-blue\">Cheat sheet for Python data structures</p>\n",
    "* <p class=\"fragment highlight-current-red\">Lists </p>\n",
    "\n",
    "    * <p class=\"fragment fade-left\">Mutable, ordered series, traditionally of the same type of object.</p>\n",
    "    \n",
    "    * <p class=\"fragment fade-left\">Advantages: Mutable and ordered. Easy to understand. Relatively efficient memory usage.</p>\n",
    "    * <p class=\"fragment fade-left\">Disadvantages: Searching is O(n). Hard to understand for many Python newcomers.</p>\n"
   ]
  },
  {
   "cell_type": "code",
   "execution_count": 26,
   "metadata": {},
   "outputs": [
    {
     "data": {
      "text/plain": [
       "[1, 2, 3, 5, 6, 7, 8, 9]"
      ]
     },
     "execution_count": 26,
     "metadata": {},
     "output_type": "execute_result"
    }
   ],
   "source": [
    "List=[1,2,3,5,6,7,8,9]\n",
    "List"
   ]
  },
  {
   "cell_type": "markdown",
   "metadata": {
    "slideshow": {
     "slide_type": "slide"
    }
   },
   "source": [
    "## <p class=\"fragment highlight-current-blue\">Cheat sheet for Python data structures</p>\n",
    "* <p class=\"fragment highlight-current-red\">Tuple </p>\n",
    "\n",
    "    * <p class=\"fragment fade-left\">Immutable, ordered series traditionally containing different objects.</p>\n",
    "    \n",
    "    * <p class=\"fragment fade-left\">Advantages: Immutable and ordered. Relatively efficient memory usage (more than lists).</p>\n",
    "    * <p class=\"fragment fade-left\">Disadvantages: Searching is O(n).</p>\n"
   ]
  },
  {
   "cell_type": "code",
   "execution_count": 27,
   "metadata": {},
   "outputs": [
    {
     "data": {
      "text/plain": [
       "(1, 2, 3, 4, 7, 9, 11, 12)"
      ]
     },
     "execution_count": 27,
     "metadata": {},
     "output_type": "execute_result"
    }
   ],
   "source": [
    "tup=(1,2,3,4,7,9,11,12)\n",
    "tup"
   ]
  },
  {
   "cell_type": "markdown",
   "metadata": {
    "slideshow": {
     "slide_type": "slide"
    }
   },
   "source": [
    "## <p class=\"fragment highlight-current-blue\">Cheat sheet for Python data structures</p>\n",
    "* <p class=\"fragment highlight-current-red\"> Dictionaries </p>\n",
    "\n",
    "    * <p class=\"fragment fade-left\">Mutable, unordered pairs (keys and values) of objects. Keys must be hashable.</p>\n",
    "    \n",
    "    * <p class=\"fragment fade-left\">Advantages: O(1) searching for keys. Makes it easy to create trees and other hierarchical\n",
    "data structures. Can be used to create self-documenting code. Many problems can be de-\n",
    "scribed in terms of key-value pairs.</p>\n",
    "    * <p class=\"fragment fade-left\">Disadvantages: Only lookup by key. Uses more memory than lists and tuples. Keys must be hashable.</p>\n"
   ]
  },
  {
   "cell_type": "code",
   "execution_count": 20,
   "metadata": {
    "slideshow": {
     "slide_type": "slide"
    }
   },
   "outputs": [],
   "source": [
    "dic={'Nom':'Abdallah','Prénom':'Khemais','Age':'solve this 2*x^2-168*x+3528=0'}"
   ]
  },
  {
   "cell_type": "code",
   "execution_count": 21,
   "metadata": {},
   "outputs": [
    {
     "data": {
      "text/plain": [
       "'solve this 2*x^2-168*x+3528=0'"
      ]
     },
     "execution_count": 21,
     "metadata": {},
     "output_type": "execute_result"
    }
   ],
   "source": [
    "dic['Age']"
   ]
  },
  {
   "cell_type": "code",
   "execution_count": 28,
   "metadata": {},
   "outputs": [],
   "source": [
    "!code Demo_list.py"
   ]
  },
  {
   "cell_type": "code",
   "execution_count": null,
   "metadata": {},
   "outputs": [],
   "source": []
  }
 ],
 "metadata": {
  "celltoolbar": "Diaporama",
  "kernelspec": {
   "display_name": "Python 3",
   "language": "python",
   "name": "python3"
  },
  "language_info": {
   "codemirror_mode": {
    "name": "ipython",
    "version": 3
   },
   "file_extension": ".py",
   "mimetype": "text/x-python",
   "name": "python",
   "nbconvert_exporter": "python",
   "pygments_lexer": "ipython3",
   "version": "3.7.4"
  },
  "rise": {
   "enable_chalkboard": false,
   "scroll": false
  }
 },
 "nbformat": 4,
 "nbformat_minor": 2
}
